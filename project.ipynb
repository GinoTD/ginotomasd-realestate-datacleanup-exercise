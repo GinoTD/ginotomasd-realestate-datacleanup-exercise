{
 "cells": [
  {
   "attachments": {},
   "cell_type": "markdown",
   "id": "innocent-university",
   "metadata": {},
   "source": [
    "# Real Estate Clean up\n",
    "\n",
    "This is a real dataset, and it was downloaded using web scraping techniques. The data contains registers from **Fotocasa** which is one of the most popular real estate websites in Spain. Please, do not do this (web scraping) unless it is for academic purposes.\n",
    "\n",
    "The dataset was downloaded a few years ago by Henry Navarro, and in no case were economic returns obtained from it.\n",
    "\n",
    "It contains thousands of data from real houses published on the web www.fotocasa.com. Your goal is to extract as much information as possible with the knowledge you have so far about data science, for example what is the most expensive house in the entire dataset?\n",
    "\n",
    "Let's start with precisely that question... Good luck!"
   ]
  },
  {
   "attachments": {},
   "cell_type": "markdown",
   "id": "multiple-glass",
   "metadata": {},
   "source": [
    "#### Exercise 00. Read the dataset assets/real_estate.csv and try to visualize the table (★☆☆)"
   ]
  },
  {
   "cell_type": "code",
   "execution_count": 3,
   "id": "frank-heath",
   "metadata": {},
   "outputs": [
    {
     "data": {
      "text/html": [
       "<div>\n",
       "<style scoped>\n",
       "    .dataframe tbody tr th:only-of-type {\n",
       "        vertical-align: middle;\n",
       "    }\n",
       "\n",
       "    .dataframe tbody tr th {\n",
       "        vertical-align: top;\n",
       "    }\n",
       "\n",
       "    .dataframe thead th {\n",
       "        text-align: right;\n",
       "    }\n",
       "</style>\n",
       "<table border=\"1\" class=\"dataframe\">\n",
       "  <thead>\n",
       "    <tr style=\"text-align: right;\">\n",
       "      <th></th>\n",
       "      <th>Unnamed: 0</th>\n",
       "      <th>id_realEstates</th>\n",
       "      <th>isNew</th>\n",
       "      <th>realEstate_name</th>\n",
       "      <th>phone_realEstate</th>\n",
       "      <th>url_inmueble</th>\n",
       "      <th>rooms</th>\n",
       "      <th>bathrooms</th>\n",
       "      <th>surface</th>\n",
       "      <th>price</th>\n",
       "      <th>...</th>\n",
       "      <th>level4Id</th>\n",
       "      <th>level5Id</th>\n",
       "      <th>level6Id</th>\n",
       "      <th>level7Id</th>\n",
       "      <th>level8Id</th>\n",
       "      <th>accuracy</th>\n",
       "      <th>latitude</th>\n",
       "      <th>longitude</th>\n",
       "      <th>zipCode</th>\n",
       "      <th>customZone</th>\n",
       "    </tr>\n",
       "  </thead>\n",
       "  <tbody>\n",
       "    <tr>\n",
       "      <th>0</th>\n",
       "      <td>1</td>\n",
       "      <td>153771986</td>\n",
       "      <td>False</td>\n",
       "      <td>ferrari 57 inmobiliaria</td>\n",
       "      <td>912177526.0</td>\n",
       "      <td>https://www.fotocasa.es/es/comprar/vivienda/ma...</td>\n",
       "      <td>3.0</td>\n",
       "      <td>2.0</td>\n",
       "      <td>103.0</td>\n",
       "      <td>195000</td>\n",
       "      <td>...</td>\n",
       "      <td>0</td>\n",
       "      <td>0</td>\n",
       "      <td>0</td>\n",
       "      <td>0</td>\n",
       "      <td>0</td>\n",
       "      <td>0</td>\n",
       "      <td>40,2948276786438</td>\n",
       "      <td>-3,44402412135624</td>\n",
       "      <td>NaN</td>\n",
       "      <td>NaN</td>\n",
       "    </tr>\n",
       "    <tr>\n",
       "      <th>1</th>\n",
       "      <td>2</td>\n",
       "      <td>153867863</td>\n",
       "      <td>False</td>\n",
       "      <td>tecnocasa fuenlabrada ferrocarril</td>\n",
       "      <td>916358736.0</td>\n",
       "      <td>https://www.fotocasa.es/es/comprar/vivienda/ma...</td>\n",
       "      <td>3.0</td>\n",
       "      <td>1.0</td>\n",
       "      <td>NaN</td>\n",
       "      <td>89000</td>\n",
       "      <td>...</td>\n",
       "      <td>0</td>\n",
       "      <td>0</td>\n",
       "      <td>0</td>\n",
       "      <td>0</td>\n",
       "      <td>0</td>\n",
       "      <td>1</td>\n",
       "      <td>40,28674</td>\n",
       "      <td>-3,79351</td>\n",
       "      <td>NaN</td>\n",
       "      <td>NaN</td>\n",
       "    </tr>\n",
       "    <tr>\n",
       "      <th>2</th>\n",
       "      <td>3</td>\n",
       "      <td>153430440</td>\n",
       "      <td>False</td>\n",
       "      <td>look find boadilla</td>\n",
       "      <td>916350408.0</td>\n",
       "      <td>https://www.fotocasa.es/es/comprar/vivienda/ma...</td>\n",
       "      <td>2.0</td>\n",
       "      <td>2.0</td>\n",
       "      <td>99.0</td>\n",
       "      <td>390000</td>\n",
       "      <td>...</td>\n",
       "      <td>0</td>\n",
       "      <td>0</td>\n",
       "      <td>0</td>\n",
       "      <td>0</td>\n",
       "      <td>0</td>\n",
       "      <td>0</td>\n",
       "      <td>40,4115646786438</td>\n",
       "      <td>-3,90662252135624</td>\n",
       "      <td>NaN</td>\n",
       "      <td>NaN</td>\n",
       "    </tr>\n",
       "    <tr>\n",
       "      <th>3</th>\n",
       "      <td>4</td>\n",
       "      <td>152776331</td>\n",
       "      <td>False</td>\n",
       "      <td>tecnocasa fuenlabrada ferrocarril</td>\n",
       "      <td>916358736.0</td>\n",
       "      <td>https://www.fotocasa.es/es/comprar/vivienda/ma...</td>\n",
       "      <td>3.0</td>\n",
       "      <td>1.0</td>\n",
       "      <td>86.0</td>\n",
       "      <td>89000</td>\n",
       "      <td>...</td>\n",
       "      <td>0</td>\n",
       "      <td>0</td>\n",
       "      <td>0</td>\n",
       "      <td>0</td>\n",
       "      <td>0</td>\n",
       "      <td>0</td>\n",
       "      <td>40,2853785786438</td>\n",
       "      <td>-3,79508142135624</td>\n",
       "      <td>NaN</td>\n",
       "      <td>NaN</td>\n",
       "    </tr>\n",
       "    <tr>\n",
       "      <th>4</th>\n",
       "      <td>5</td>\n",
       "      <td>153180188</td>\n",
       "      <td>False</td>\n",
       "      <td>ferrari 57 inmobiliaria</td>\n",
       "      <td>912177526.0</td>\n",
       "      <td>https://www.fotocasa.es/es/comprar/vivienda/ma...</td>\n",
       "      <td>2.0</td>\n",
       "      <td>2.0</td>\n",
       "      <td>106.0</td>\n",
       "      <td>172000</td>\n",
       "      <td>...</td>\n",
       "      <td>0</td>\n",
       "      <td>0</td>\n",
       "      <td>0</td>\n",
       "      <td>0</td>\n",
       "      <td>0</td>\n",
       "      <td>0</td>\n",
       "      <td>40,2998774864376</td>\n",
       "      <td>-3,45226301356237</td>\n",
       "      <td>NaN</td>\n",
       "      <td>NaN</td>\n",
       "    </tr>\n",
       "    <tr>\n",
       "      <th>...</th>\n",
       "      <td>...</td>\n",
       "      <td>...</td>\n",
       "      <td>...</td>\n",
       "      <td>...</td>\n",
       "      <td>...</td>\n",
       "      <td>...</td>\n",
       "      <td>...</td>\n",
       "      <td>...</td>\n",
       "      <td>...</td>\n",
       "      <td>...</td>\n",
       "      <td>...</td>\n",
       "      <td>...</td>\n",
       "      <td>...</td>\n",
       "      <td>...</td>\n",
       "      <td>...</td>\n",
       "      <td>...</td>\n",
       "      <td>...</td>\n",
       "      <td>...</td>\n",
       "      <td>...</td>\n",
       "      <td>...</td>\n",
       "      <td>...</td>\n",
       "    </tr>\n",
       "    <tr>\n",
       "      <th>15330</th>\n",
       "      <td>15331</td>\n",
       "      <td>153901377</td>\n",
       "      <td>False</td>\n",
       "      <td>infocasa consulting</td>\n",
       "      <td>911360461.0</td>\n",
       "      <td>https://www.fotocasa.es/es/comprar/vivienda/ma...</td>\n",
       "      <td>2.0</td>\n",
       "      <td>1.0</td>\n",
       "      <td>96.0</td>\n",
       "      <td>259470</td>\n",
       "      <td>...</td>\n",
       "      <td>0</td>\n",
       "      <td>0</td>\n",
       "      <td>0</td>\n",
       "      <td>0</td>\n",
       "      <td>0</td>\n",
       "      <td>0</td>\n",
       "      <td>40,45416</td>\n",
       "      <td>-3,70286</td>\n",
       "      <td>NaN</td>\n",
       "      <td>NaN</td>\n",
       "    </tr>\n",
       "    <tr>\n",
       "      <th>15331</th>\n",
       "      <td>15332</td>\n",
       "      <td>150394373</td>\n",
       "      <td>False</td>\n",
       "      <td>inmobiliaria pulpon</td>\n",
       "      <td>912788039.0</td>\n",
       "      <td>https://www.fotocasa.es/es/comprar/vivienda/ma...</td>\n",
       "      <td>3.0</td>\n",
       "      <td>1.0</td>\n",
       "      <td>150.0</td>\n",
       "      <td>165000</td>\n",
       "      <td>...</td>\n",
       "      <td>0</td>\n",
       "      <td>0</td>\n",
       "      <td>0</td>\n",
       "      <td>0</td>\n",
       "      <td>0</td>\n",
       "      <td>0</td>\n",
       "      <td>40,36652</td>\n",
       "      <td>-3,48951</td>\n",
       "      <td>NaN</td>\n",
       "      <td>NaN</td>\n",
       "    </tr>\n",
       "    <tr>\n",
       "      <th>15332</th>\n",
       "      <td>15333</td>\n",
       "      <td>153901397</td>\n",
       "      <td>False</td>\n",
       "      <td>tecnocasa torrelodones</td>\n",
       "      <td>912780348.0</td>\n",
       "      <td>https://www.fotocasa.es/es/comprar/vivienda/ma...</td>\n",
       "      <td>4.0</td>\n",
       "      <td>2.0</td>\n",
       "      <td>175.0</td>\n",
       "      <td>495000</td>\n",
       "      <td>...</td>\n",
       "      <td>0</td>\n",
       "      <td>0</td>\n",
       "      <td>0</td>\n",
       "      <td>0</td>\n",
       "      <td>0</td>\n",
       "      <td>0</td>\n",
       "      <td>40,57444</td>\n",
       "      <td>-3,92124</td>\n",
       "      <td>NaN</td>\n",
       "      <td>NaN</td>\n",
       "    </tr>\n",
       "    <tr>\n",
       "      <th>15333</th>\n",
       "      <td>15334</td>\n",
       "      <td>152607440</td>\n",
       "      <td>False</td>\n",
       "      <td>inmobiliaria pulpon</td>\n",
       "      <td>912788039.0</td>\n",
       "      <td>https://www.fotocasa.es/es/comprar/vivienda/ma...</td>\n",
       "      <td>3.0</td>\n",
       "      <td>2.0</td>\n",
       "      <td>101.0</td>\n",
       "      <td>195000</td>\n",
       "      <td>...</td>\n",
       "      <td>0</td>\n",
       "      <td>0</td>\n",
       "      <td>0</td>\n",
       "      <td>0</td>\n",
       "      <td>0</td>\n",
       "      <td>0</td>\n",
       "      <td>40,36967</td>\n",
       "      <td>-3,48105</td>\n",
       "      <td>NaN</td>\n",
       "      <td>NaN</td>\n",
       "    </tr>\n",
       "    <tr>\n",
       "      <th>15334</th>\n",
       "      <td>15335</td>\n",
       "      <td>153901356</td>\n",
       "      <td>False</td>\n",
       "      <td>infocasa consulting</td>\n",
       "      <td>911360461.0</td>\n",
       "      <td>https://www.fotocasa.es/es/comprar/vivienda/ma...</td>\n",
       "      <td>3.0</td>\n",
       "      <td>2.0</td>\n",
       "      <td>152.0</td>\n",
       "      <td>765000</td>\n",
       "      <td>...</td>\n",
       "      <td>0</td>\n",
       "      <td>0</td>\n",
       "      <td>0</td>\n",
       "      <td>0</td>\n",
       "      <td>0</td>\n",
       "      <td>0</td>\n",
       "      <td>40,45773</td>\n",
       "      <td>-3,69068</td>\n",
       "      <td>NaN</td>\n",
       "      <td>NaN</td>\n",
       "    </tr>\n",
       "  </tbody>\n",
       "</table>\n",
       "<p>15335 rows × 37 columns</p>\n",
       "</div>"
      ],
      "text/plain": [
       "       Unnamed: 0  id_realEstates  isNew                    realEstate_name  \\\n",
       "0               1       153771986  False            ferrari 57 inmobiliaria   \n",
       "1               2       153867863  False  tecnocasa fuenlabrada ferrocarril   \n",
       "2               3       153430440  False                 look find boadilla   \n",
       "3               4       152776331  False  tecnocasa fuenlabrada ferrocarril   \n",
       "4               5       153180188  False            ferrari 57 inmobiliaria   \n",
       "...           ...             ...    ...                                ...   \n",
       "15330       15331       153901377  False                infocasa consulting   \n",
       "15331       15332       150394373  False                inmobiliaria pulpon   \n",
       "15332       15333       153901397  False             tecnocasa torrelodones   \n",
       "15333       15334       152607440  False                inmobiliaria pulpon   \n",
       "15334       15335       153901356  False                infocasa consulting   \n",
       "\n",
       "       phone_realEstate                                       url_inmueble  \\\n",
       "0           912177526.0  https://www.fotocasa.es/es/comprar/vivienda/ma...   \n",
       "1           916358736.0  https://www.fotocasa.es/es/comprar/vivienda/ma...   \n",
       "2           916350408.0  https://www.fotocasa.es/es/comprar/vivienda/ma...   \n",
       "3           916358736.0  https://www.fotocasa.es/es/comprar/vivienda/ma...   \n",
       "4           912177526.0  https://www.fotocasa.es/es/comprar/vivienda/ma...   \n",
       "...                 ...                                                ...   \n",
       "15330       911360461.0  https://www.fotocasa.es/es/comprar/vivienda/ma...   \n",
       "15331       912788039.0  https://www.fotocasa.es/es/comprar/vivienda/ma...   \n",
       "15332       912780348.0  https://www.fotocasa.es/es/comprar/vivienda/ma...   \n",
       "15333       912788039.0  https://www.fotocasa.es/es/comprar/vivienda/ma...   \n",
       "15334       911360461.0  https://www.fotocasa.es/es/comprar/vivienda/ma...   \n",
       "\n",
       "       rooms  bathrooms  surface   price  ... level4Id level5Id level6Id  \\\n",
       "0        3.0        2.0    103.0  195000  ...        0        0        0   \n",
       "1        3.0        1.0      NaN   89000  ...        0        0        0   \n",
       "2        2.0        2.0     99.0  390000  ...        0        0        0   \n",
       "3        3.0        1.0     86.0   89000  ...        0        0        0   \n",
       "4        2.0        2.0    106.0  172000  ...        0        0        0   \n",
       "...      ...        ...      ...     ...  ...      ...      ...      ...   \n",
       "15330    2.0        1.0     96.0  259470  ...        0        0        0   \n",
       "15331    3.0        1.0    150.0  165000  ...        0        0        0   \n",
       "15332    4.0        2.0    175.0  495000  ...        0        0        0   \n",
       "15333    3.0        2.0    101.0  195000  ...        0        0        0   \n",
       "15334    3.0        2.0    152.0  765000  ...        0        0        0   \n",
       "\n",
       "      level7Id level8Id accuracy          latitude          longitude zipCode  \\\n",
       "0            0        0        0  40,2948276786438  -3,44402412135624     NaN   \n",
       "1            0        0        1          40,28674           -3,79351     NaN   \n",
       "2            0        0        0  40,4115646786438  -3,90662252135624     NaN   \n",
       "3            0        0        0  40,2853785786438  -3,79508142135624     NaN   \n",
       "4            0        0        0  40,2998774864376  -3,45226301356237     NaN   \n",
       "...        ...      ...      ...               ...                ...     ...   \n",
       "15330        0        0        0          40,45416           -3,70286     NaN   \n",
       "15331        0        0        0          40,36652           -3,48951     NaN   \n",
       "15332        0        0        0          40,57444           -3,92124     NaN   \n",
       "15333        0        0        0          40,36967           -3,48105     NaN   \n",
       "15334        0        0        0          40,45773           -3,69068     NaN   \n",
       "\n",
       "      customZone  \n",
       "0            NaN  \n",
       "1            NaN  \n",
       "2            NaN  \n",
       "3            NaN  \n",
       "4            NaN  \n",
       "...          ...  \n",
       "15330        NaN  \n",
       "15331        NaN  \n",
       "15332        NaN  \n",
       "15333        NaN  \n",
       "15334        NaN  \n",
       "\n",
       "[15335 rows x 37 columns]"
      ]
     },
     "execution_count": 3,
     "metadata": {},
     "output_type": "execute_result"
    }
   ],
   "source": [
    "import pandas as pd\n",
    "\n",
    "# This CSV file contains semicolons instead of comas as separator\n",
    "ds = pd.read_csv('assets/real_estate.csv', sep=';')\n",
    "ds"
   ]
  },
  {
   "attachments": {},
   "cell_type": "markdown",
   "id": "latin-guest",
   "metadata": {},
   "source": [
    "#### Exercise 01. Which is the most expensive house in the dataset? (★☆☆)\n",
    "\n",
    "Print the address and the price of the selected house. For example:\n",
    "\n",
    "`The house with address General Street Nº5 is the most expensive and its price is 5000000 USD`"
   ]
  },
  {
   "cell_type": "code",
   "execution_count": 4,
   "id": "developing-optimum",
   "metadata": {},
   "outputs": [
    {
     "name": "stdout",
     "output_type": "stream",
     "text": [
      "The house with adress El Escorial is the most expensive and it's price is: 8500000 €\n"
     ]
    }
   ],
   "source": [
    "# TODO\n",
    "most_expensive = ds.loc[ds['price'].idxmax()]\n",
    "print(f\"The house with adress\", most_expensive['level5'], \"is the most expensive and it's price is:\", most_expensive['price'], \"€\")"
   ]
  },
  {
   "attachments": {},
   "cell_type": "markdown",
   "id": "lesser-cosmetic",
   "metadata": {},
   "source": [
    "#### Exercise 02. Which is the cheapest house in the dataset? (★☆☆)\n",
    "\n",
    "Print the address and the price of the selected house. For example:\n",
    "\n",
    "`The house with address Concrete Street Nº1 is the cheapest and its price is 12000 USD`"
   ]
  },
  {
   "cell_type": "code",
   "execution_count": 5,
   "id": "lovely-oasis",
   "metadata": {},
   "outputs": [
    {
     "name": "stdout",
     "output_type": "stream",
     "text": [
      "The house with adress Parla is the cheapest and it's price is: 0 €\n"
     ]
    }
   ],
   "source": [
    "# TODO\n",
    "cheapest = ds.loc[ds['price'].idxmin()]\n",
    "print(f\"The house with adress\", cheapest['level5'], \"is the cheapest and it's price is:\", cheapest['price'], \"€\")"
   ]
  },
  {
   "attachments": {},
   "cell_type": "markdown",
   "id": "compliant-fellowship",
   "metadata": {},
   "source": [
    "#### Exercise 03. Which is the biggest and the smallest house in the dataset? (★☆☆)\n",
    "\n",
    "Print both the address and the surface of the selected houses. For example:\n",
    "\n",
    "`The biggest house is located on Yukka Street Nº10 and its surface is 5000 meters`\n",
    "\n",
    "`The smallest house is located on County Road 1 N and its surface is 200 meters`"
   ]
  },
  {
   "cell_type": "code",
   "execution_count": 6,
   "id": "every-tiffany",
   "metadata": {},
   "outputs": [
    {
     "name": "stdout",
     "output_type": "stream",
     "text": [
      "The biggest house located on Sevilla la Nueva  it's surface is: 249000.0 meters\n",
      "The smallest house located on  Madrid Capital  it's surface is: 15.0 meters\n"
     ]
    }
   ],
   "source": [
    "# TODO\n",
    "size = ds.loc[ds['surface'].idxmax()]\n",
    "print(f\"The biggest house located on\", size['level5'], \" it's surface is:\", size['surface'], \"meters\")\n",
    "\n",
    "size2 = ds.loc[ds['surface'].idxmin()]\n",
    "print(f\"The smallest house located on\", size2['level5'], \" it's surface is:\", size2['surface'], \"meters\")"
   ]
  },
  {
   "attachments": {},
   "cell_type": "markdown",
   "id": "danish-spirit",
   "metadata": {},
   "source": [
    "#### Exercise 04. How many populations (level5 column) the dataset contains? (★☆☆)\n",
    "\n",
    "Print the names of the populations with a comma as a separator. For example:\n",
    "\n",
    "`> print(populations)`\n",
    "\n",
    "`population1, population2, population3, ...`"
   ]
  },
  {
   "cell_type": "code",
   "execution_count": 7,
   "id": "exciting-accreditation",
   "metadata": {},
   "outputs": [
    {
     "name": "stdout",
     "output_type": "stream",
     "text": [
      "There are: 15335 populations in this Dataset\n",
      "There are: 168 populations in this Dataset\n",
      "Arganda del Rey, Fuenlabrada, Boadilla del Monte, Las Rozas de Madrid,  Madrid Capital, Villaviciosa de Odón, Pinto, Valdemoro, Navalcarnero, Pozuelo de Alarcón, Torrejón de Ardoz, Navalagamella, San Sebastián de los Reyes, Rivas-vaciamadrid, Alpedrete, Móstoles, San Fernando de Henares, Coslada, Becerril de la Sierra, Alcalá de Henares, Chinchón, Parla, Alcorcón, El Escorial, Leganés, Pedrezuela, Majadahonda, Villanueva de la Cañada, Villanueva del Pardillo, Torrelodones, Moralzarzal, Mejorada del Campo, Aranjuez, Corpa, Getafe, Velilla de San Antonio, Sevilla la Nueva, San Martín de la Vega, Villalbilla, Collado Villalba, Alcobendas, El Molar (Madrid), Moraleja de Enmedio, Algete, Campo Real, Torrejón de la Calzada, Colmenar Viejo, Valdemorillo, Fuente El Saz de Jarama, Tres Cantos, Arroyomolinos (Madrid), Griñón, Paracuellos de Jarama, Guadarrama, Titulcia, Galapagar, Collado Mediano, Los Molinos, San Lorenzo de El Escorial, Loeches, San Martín de Valdeiglesias, Navas del Rey, Bustarviejo, Manzanares El Real, Carabaña, Casarrubuelos, Cercedilla, Fresnedillas de la Oliva, Valdemaqueda, Robledo de Chavela, Miraflores de la Sierra, Humanes de Madrid, Valdetorres de Jarama, San Agustín del Guadalix, Ciempozuelos, Camarma de Esteruelas, Torres de la Alameda, Talamanca de Jarama, El Atazar, Hoyo de Manzanares, El Boalo - Cerceda – Mataelpino, El Álamo, Valdilecha, Valdeolmos-Alalpardo, Guadalix de la Sierra, Belmonte de Tajo, El Vellón, Brunete, Redueña, Morata de Tajuña, Tielmes, Gargantilla del Lozoya, Meco, Venturada, Quijorna, Cenicientos, Torrejón de Velasco, Navacerrada, Santa María de la Alameda, Orusco de Tajuña, Daganzo de Arriba, Villamanta, Anchuelo, Valdaracete, Ajalvir, Los Santos de la Humosa, Villamanrique de Tajo, Colmenar de Oreja, Villa del Prado, Fuentidueña de Tajo, Colmenar del Arroyo, Valdelaguna, Cubas de la Sagra, Valdeavero, Aldea del Fresno, Ribatejada, Torrelaguna, Batres, Pezuela de las Torres, Colmenarejo, Serranillos del Valle, Cobeña, Soto del Real, El Berrueco, Villanueva de Perales, Fresno de Torote - Serracines, Pozuelo del Rey, Pelayos de la Presa, La Cabrera, Nuevo Baztán, Perales de Tajuña, Villaconejos, Villarejo de Salvanés, Cadalso de los Vidrios, Santorcaz, Madarcos, Garganta de los Montes, Puentes Viejas, Torremocha de Jarama, Valdemanco, Braojos, Lozoyuela-navas-sieteiglesias, Piñuécar-gandullas, Valdepiélagos, Valverde de Alcalá, Villar del Olmo, Villamantilla, Horcajo de la Sierra, Gascones, Zarzalejo, Villavieja del Lozoya, Brea de Tajo, Estremera, Chapinería, Navarredonda, Patones, Ambite, Navalafuente, Lozoya, Canencia, Cabanillas de la Sierra, Buitrago del Lozoya, Fresno de Torote, Robregordo, Pinilla del Valle, Rascafría, La Hiruela, Montejo de la Sierra\n"
     ]
    }
   ],
   "source": [
    "# TODO\n",
    "count = len(ds['level5']) \n",
    "count_unique = ds['level5'].dropna().unique()\n",
    "length = len(count_unique)\n",
    "print(f\"There are:\", count, \"populations in this Dataset\")\n",
    "print(f\"There are:\", length, \"populations in this Dataset\")\n",
    "\n",
    "print(\", \".join(count_unique))\n"
   ]
  },
  {
   "attachments": {},
   "cell_type": "markdown",
   "id": "crazy-blame",
   "metadata": {},
   "source": [
    "#### Exercise 05. Does the dataset contain NAs? (★☆☆)\n",
    "\n",
    "Print a boolean value (`True` or `False`) followed by the rows/cols that contains NAs."
   ]
  },
  {
   "cell_type": "code",
   "execution_count": 8,
   "id": "transparent-poetry",
   "metadata": {},
   "outputs": [
    {
     "name": "stdout",
     "output_type": "stream",
     "text": [
      "True\n",
      "Index(['realEstate_name', 'phone_realEstate', 'rooms', 'bathrooms', 'surface',\n",
      "       'description', 'level4', 'level6', 'level7', 'level8', 'zipCode',\n",
      "       'customZone'],\n",
      "      dtype='object')\n",
      "       Unnamed: 0  id_realEstates  isNew                    realEstate_name  \\\n",
      "0               1       153771986  False            ferrari 57 inmobiliaria   \n",
      "1               2       153867863  False  tecnocasa fuenlabrada ferrocarril   \n",
      "2               3       153430440  False                 look find boadilla   \n",
      "3               4       152776331  False  tecnocasa fuenlabrada ferrocarril   \n",
      "4               5       153180188  False            ferrari 57 inmobiliaria   \n",
      "...           ...             ...    ...                                ...   \n",
      "15330       15331       153901377  False                infocasa consulting   \n",
      "15331       15332       150394373  False                inmobiliaria pulpon   \n",
      "15332       15333       153901397  False             tecnocasa torrelodones   \n",
      "15333       15334       152607440  False                inmobiliaria pulpon   \n",
      "15334       15335       153901356  False                infocasa consulting   \n",
      "\n",
      "       phone_realEstate                                       url_inmueble  \\\n",
      "0           912177526.0  https://www.fotocasa.es/es/comprar/vivienda/ma...   \n",
      "1           916358736.0  https://www.fotocasa.es/es/comprar/vivienda/ma...   \n",
      "2           916350408.0  https://www.fotocasa.es/es/comprar/vivienda/ma...   \n",
      "3           916358736.0  https://www.fotocasa.es/es/comprar/vivienda/ma...   \n",
      "4           912177526.0  https://www.fotocasa.es/es/comprar/vivienda/ma...   \n",
      "...                 ...                                                ...   \n",
      "15330       911360461.0  https://www.fotocasa.es/es/comprar/vivienda/ma...   \n",
      "15331       912788039.0  https://www.fotocasa.es/es/comprar/vivienda/ma...   \n",
      "15332       912780348.0  https://www.fotocasa.es/es/comprar/vivienda/ma...   \n",
      "15333       912788039.0  https://www.fotocasa.es/es/comprar/vivienda/ma...   \n",
      "15334       911360461.0  https://www.fotocasa.es/es/comprar/vivienda/ma...   \n",
      "\n",
      "       rooms  bathrooms  surface   price  ... level4Id level5Id level6Id  \\\n",
      "0        3.0        2.0    103.0  195000  ...        0        0        0   \n",
      "1        3.0        1.0      NaN   89000  ...        0        0        0   \n",
      "2        2.0        2.0     99.0  390000  ...        0        0        0   \n",
      "3        3.0        1.0     86.0   89000  ...        0        0        0   \n",
      "4        2.0        2.0    106.0  172000  ...        0        0        0   \n",
      "...      ...        ...      ...     ...  ...      ...      ...      ...   \n",
      "15330    2.0        1.0     96.0  259470  ...        0        0        0   \n",
      "15331    3.0        1.0    150.0  165000  ...        0        0        0   \n",
      "15332    4.0        2.0    175.0  495000  ...        0        0        0   \n",
      "15333    3.0        2.0    101.0  195000  ...        0        0        0   \n",
      "15334    3.0        2.0    152.0  765000  ...        0        0        0   \n",
      "\n",
      "      level7Id level8Id accuracy          latitude          longitude zipCode  \\\n",
      "0            0        0        0  40,2948276786438  -3,44402412135624     NaN   \n",
      "1            0        0        1          40,28674           -3,79351     NaN   \n",
      "2            0        0        0  40,4115646786438  -3,90662252135624     NaN   \n",
      "3            0        0        0  40,2853785786438  -3,79508142135624     NaN   \n",
      "4            0        0        0  40,2998774864376  -3,45226301356237     NaN   \n",
      "...        ...      ...      ...               ...                ...     ...   \n",
      "15330        0        0        0          40,45416           -3,70286     NaN   \n",
      "15331        0        0        0          40,36652           -3,48951     NaN   \n",
      "15332        0        0        0          40,57444           -3,92124     NaN   \n",
      "15333        0        0        0          40,36967           -3,48105     NaN   \n",
      "15334        0        0        0          40,45773           -3,69068     NaN   \n",
      "\n",
      "      customZone  \n",
      "0            NaN  \n",
      "1            NaN  \n",
      "2            NaN  \n",
      "3            NaN  \n",
      "4            NaN  \n",
      "...          ...  \n",
      "15330        NaN  \n",
      "15331        NaN  \n",
      "15332        NaN  \n",
      "15333        NaN  \n",
      "15334        NaN  \n",
      "\n",
      "[15335 rows x 37 columns]\n"
     ]
    }
   ],
   "source": [
    "# TODO\n",
    "nas = ds.isna().any().any()\n",
    "print(nas)\n",
    "\n",
    "columns = ds.columns[ds.isna().any()]\n",
    "print(columns)\n",
    "\n",
    "rows = ds[ds.isna().any(axis=1)]\n",
    "print(rows)\n"
   ]
  },
  {
   "attachments": {},
   "cell_type": "markdown",
   "id": "italic-hydrogen",
   "metadata": {},
   "source": [
    "#### Exercise 06. Delete the NAs of the dataset, if applicable (★★☆)\n",
    "\n",
    "Print a comparison between the dimensions of the original DataFrame versus the DataFrame after the deletions."
   ]
  },
  {
   "cell_type": "code",
   "execution_count": 9,
   "id": "administrative-roads",
   "metadata": {},
   "outputs": [
    {
     "name": "stdout",
     "output_type": "stream",
     "text": [
      "Empty DataFrame\n",
      "Columns: [Unnamed: 0, id_realEstates, isNew, realEstate_name, phone_realEstate, url_inmueble, rooms, bathrooms, surface, price, date, description, address, country, level1, level2, level3, level4, level5, level6, level7, level8, upperLevel, countryId, level1Id, level2Id, level3Id, level4Id, level5Id, level6Id, level7Id, level8Id, accuracy, latitude, longitude, zipCode, customZone]\n",
      "Index: []\n",
      "\n",
      "[0 rows x 37 columns]\n",
      "The original size is: 15335\n",
      "The after-deletion size is: 0\n"
     ]
    }
   ],
   "source": [
    "# TODO\n",
    "remove = ds.dropna()\n",
    "print(remove) #It returns an empty Dataset since there is at least one Nan value on each row. \n",
    "\n",
    "original = ds\n",
    "size_original = len(ds)\n",
    "size_deleted = len(remove)\n",
    "print(\"The original size is:\", size_original)\n",
    "print(\"The after-deletion size is:\", size_deleted)\n"
   ]
  },
  {
   "attachments": {},
   "cell_type": "markdown",
   "id": "middle-china",
   "metadata": {},
   "source": [
    "#### Exercise 07. Which is the mean of prices in the population (level5 column) of \"Arroyomolinos (Madrid)\"? (★★☆)\n",
    "\n",
    "Print the obtained value."
   ]
  },
  {
   "cell_type": "code",
   "execution_count": 10,
   "id": "nuclear-belief",
   "metadata": {},
   "outputs": [
    {
     "name": "stdout",
     "output_type": "stream",
     "text": [
      "The average price in Arroyomolinos (Madrid) for a property is: 294542 €\n"
     ]
    }
   ],
   "source": [
    "# TODO\n",
    "place_count = ds[ds['level5'] == \"Arroyomolinos (Madrid)\"]\n",
    "average_price = place_count['price'].mean()\n",
    "print(\"The average price in Arroyomolinos (Madrid) for a property is:\", round(average_price), \"€\")"
   ]
  },
  {
   "attachments": {},
   "cell_type": "markdown",
   "id": "concerned-radical",
   "metadata": {},
   "source": [
    "#### Exercise 08. Plot the histogram of prices for the population (level5 column) of \"Arroyomolinos (Madrid)\" and explain what you observe (★★☆)\n",
    "\n",
    "Print the histogram of the prices and write in the Markdown cell a brief analysis about the plot."
   ]
  },
  {
   "cell_type": "code",
   "execution_count": 11,
   "id": "sudden-message",
   "metadata": {},
   "outputs": [
    {
     "name": "stdout",
     "output_type": "stream",
     "text": [
      "The data shows most of the houses are priced withing a range from 150k to 400k € with a few anomalies on both side particularly the right skew of the histogram, with some houses reaching up to 600k in price. The other anomaly is a house just above 0€ which could be either cheap land or an error in the data\n"
     ]
    },
    {
     "data": {
      "image/png": "[encoded data removed]",
      "text/plain": [
       "<Figure size 1000x500 with 1 Axes>"
      ]
     },
     "metadata": {},
     "output_type": "display_data"
    }
   ],
   "source": [
    "# TODO: Code\n",
    "import matplotlib.pyplot as plt\n",
    "\n",
    "arroyomolinos_count = ds[ds['level5'] == \"Arroyomolinos (Madrid)\"]\n",
    "\n",
    "prices = arroyomolinos_count['price'].dropna() # Drop all columns with NaN values\n",
    "\n",
    "plt.figure(figsize = (10, 5))\n",
    "\n",
    "plt.hist(prices, bins = 30, alpha = 0.7)\n",
    "\n",
    "plt.xlabel(\"Price (€)\")\n",
    "plt.ylabel(\"Number of listings\")\n",
    "plt.title(\"Prices for the population of Arroyomolinos (Madrid)\")\n",
    "plt.show \n",
    "\n",
    "print(\"The data shows most of the houses are priced withing a range from 150k to 400k € with a few anomalies on both side\",\n",
    "      \"particularly the right skew of the histogram, with some houses reaching up to 600k in price. The other anomaly is a\",\n",
    "      \"house just above 0€ which could be either cheap land or an error in the data\")"
   ]
  },
  {
   "attachments": {},
   "cell_type": "markdown",
   "id": "impressed-combination",
   "metadata": {},
   "source": [
    "**TODO: Markdown**. To write here, double-click on this cell, remove this content and place the text you want to write. Then, execute the cell."
   ]
  },
  {
   "attachments": {},
   "cell_type": "markdown",
   "id": "actual-edinburgh",
   "metadata": {},
   "source": [
    "#### Exercise 09. Are the average prices of \"Valdemorillo\" and \"Galapagar\" the same? (★★☆)\n",
    "\n",
    "Print both average prices and then write a conclusion about them."
   ]
  },
  {
   "cell_type": "code",
   "execution_count": 12,
   "id": "numeric-commerce",
   "metadata": {},
   "outputs": [
    {
     "name": "stdout",
     "output_type": "stream",
     "text": [
      "The average price in Valdemorillo for a property is: 363860 €\n",
      "The average price in Galapagar for a property is: 360063 €\n",
      "The prices between these two places are almost identical, meaning in both places you will find houses similarly priced\n"
     ]
    }
   ],
   "source": [
    "# TODO\n",
    "place_count = ds[ds['level5'] == \"Valdemorillo\"]\n",
    "average_price = place_count['price'].mean()\n",
    "print(\"The average price in Valdemorillo for a property is:\", round(average_price), \"€\")\n",
    "\n",
    "place_count = ds[ds['level5'] == \"Galapagar\"]\n",
    "average_price = place_count['price'].mean()\n",
    "print(\"The average price in Galapagar for a property is:\", round(average_price), \"€\")\n",
    "\n",
    "print(\"The prices between these two places are almost identical, meaning in both places you will find houses similarly priced\")"
   ]
  },
  {
   "attachments": {},
   "cell_type": "markdown",
   "id": "lonely-article",
   "metadata": {},
   "source": [
    "#### Exercise 10. Are the average prices per square meter (price/m2) of \"Valdemorillo\" and \"Galapagar\" the same? (★★☆)\n",
    "\n",
    "Print both average prices and then write a conclusion about it.\n",
    "\n",
    "Hint: Create a new column called `pps` (price per square meter) and then analyze the values."
   ]
  },
  {
   "cell_type": "code",
   "execution_count": 13,
   "id": "hourly-globe",
   "metadata": {},
   "outputs": [
    {
     "name": "stdout",
     "output_type": "stream",
     "text": [
      "    price  surface          pps\n",
      "0  195000    103.0  1893.203883\n",
      "1   89000      NaN          NaN\n",
      "2  390000     99.0  3939.393939\n",
      "3   89000     86.0  1034.883721\n",
      "4  172000    106.0  1622.641509\n",
      "The average price per square meter for a property in Valdemorillo is: 1318 €\n",
      "The average price per square meter for a property in Galapagar is: 1606 €\n",
      "Prices between Valdemorillo and Galapagar are similar, but still there's a difference of 300€, which would be considerable depending on the size of the house\n"
     ]
    }
   ],
   "source": [
    "# TODO\n",
    "ds['pps'] = ds['price'] / ds['surface']\n",
    "valdemorillo_price = ds[ds['level5'] == \"Valdemorillo\"]['pps'].mean()\n",
    "galapagar_price = ds[ds['level5'] == \"Galapagar\"]['pps'].mean()\n",
    "\n",
    "print(ds[['price', 'surface', 'pps']].head()) #Column\n",
    "\n",
    "print(f\"The average price per square meter for a property in Valdemorillo is:\", round(valdemorillo_price), \"€\")\n",
    "print(f\"The average price per square meter for a property in Galapagar is:\", round(galapagar_price), \"€\")\n",
    "\n",
    "print(\"Prices between Valdemorillo and Galapagar are similar, but still there's a difference of 300€, which would be considerable depending on the size of the house\")"
   ]
  },
  {
   "attachments": {},
   "cell_type": "markdown",
   "id": "pleasant-invite",
   "metadata": {},
   "source": [
    "#### Exercise 11. Analyze the relation between the surface and the price of the houses (★★☆)\n",
    "\n",
    "Hint: You can make a `scatter plot`, then write a conclusion about it."
   ]
  },
  {
   "cell_type": "code",
   "execution_count": null,
   "id": "common-drilling",
   "metadata": {},
   "outputs": [
    {
     "data": {
      "image/png": "[encoded data removed]",
      "text/plain": [
       "<Figure size 1000x500 with 1 Axes>"
      ]
     },
     "metadata": {},
     "output_type": "display_data"
    },
    {
     "name": "stdout",
     "output_type": "stream",
     "text": [
      "We can see that most houses in the data stay within the range of less than 10k per m2 and almost all of them stay at or below 5k, only one anomaly detected at more than 35k\n",
      "0        103.0\n",
      "1          NaN\n",
      "2         99.0\n",
      "3         86.0\n",
      "4        106.0\n",
      "         ...  \n",
      "15330     96.0\n",
      "15331    150.0\n",
      "15332    175.0\n",
      "15333    101.0\n",
      "15334    152.0\n",
      "Name: surface, Length: 15335, dtype: float64\n"
     ]
    }
   ],
   "source": [
    "# TODO: Code\n",
    "plt.figure(figsize = (10, 5))\n",
    "\n",
    "plt.scatter(ds['surface'], ds['pps'], color='blue')\n",
    "\n",
    "plt.title(\"Surface and price of houses\")\n",
    "plt.xlabel(\"Surface\")\n",
    "plt.ylabel(\"Price per m2 (€)\")\n",
    "plt.show()\n",
    "\n",
    "print(\"We can see that the surface relative to the price/m2 is vertical, meaning that the majority of the listings are around the same size, only 4 outliars are present and they have NaN values so they are not correctly represented.\")"
   ]
  },
  {
   "attachments": {},
   "cell_type": "markdown",
   "id": "ahead-liquid",
   "metadata": {},
   "source": [
    "**TODO: Markdown**. To write here, double-click on this cell, remove this content and place the text you want to write. Then, execute the cell."
   ]
  },
  {
   "attachments": {},
   "cell_type": "markdown",
   "id": "coordinate-sunrise",
   "metadata": {},
   "source": [
    "#### Exercise 12. How many real estate agencies does the dataset contain? (★★☆)\n",
    "\n",
    "Print the obtained value."
   ]
  },
  {
   "cell_type": "code",
   "execution_count": 15,
   "id": "valid-honolulu",
   "metadata": {},
   "outputs": [
    {
     "name": "stdout",
     "output_type": "stream",
     "text": [
      "There are 1821 unique real estate agencies in the dataset.\n"
     ]
    }
   ],
   "source": [
    "# TODO\n",
    "agencies_count = ds['realEstate_name'].nunique()\n",
    "\n",
    "print(f\"There are {agencies_count} unique real estate agencies in the dataset.\")"
   ]
  },
  {
   "attachments": {},
   "cell_type": "markdown",
   "id": "binding-ebony",
   "metadata": {},
   "source": [
    "#### Exercise 13. Which is the population (level5 column) that contains the most houses? (★★☆)\n",
    "\n",
    "Print both the population and the number of houses."
   ]
  },
  {
   "cell_type": "code",
   "execution_count": 16,
   "id": "static-perry",
   "metadata": {},
   "outputs": [
    {
     "name": "stdout",
     "output_type": "stream",
     "text": [
      "The population with the most houses is Madrid Capital and it has a total of 6643 houses listed.\n"
     ]
    }
   ],
   "source": [
    "# TODO\n",
    "most_houses = ds['level5'].value_counts().idxmax()\n",
    "numhouses = ds['level5'].value_counts().max()\n",
    "\n",
    "print(f\"The population with the most houses is{most_houses} and it has a total of {numhouses} houses listed.\")"
   ]
  },
  {
   "attachments": {},
   "cell_type": "markdown",
   "id": "entire-classification",
   "metadata": {},
   "source": [
    "#### Exercise 14. Now let's work with the \"south belt\" of Madrid. Make a subset of the original DataFrame that contains the following populations (level5 column): \"Fuenlabrada\", \"Leganés\", \"Getafe\", \"Alcorcón\" (★★☆)\n",
    "\n",
    "Hint: Filter the original DataFrame using the column `level5` and the function `isin`."
   ]
  },
  {
   "cell_type": "code",
   "execution_count": 17,
   "id": "binary-input",
   "metadata": {},
   "outputs": [
    {
     "name": "stdout",
     "output_type": "stream",
     "text": [
      "     Unnamed: 0  id_realEstates  isNew                    realEstate_name  \\\n",
      "1             2       153867863  False  tecnocasa fuenlabrada ferrocarril   \n",
      "3             4       152776331  False  tecnocasa fuenlabrada ferrocarril   \n",
      "85           86       153152077  False            sinergical inmobiliaria   \n",
      "94           95       153995577  False                    viviendas365com   \n",
      "109         110       153586414  False    area uno asesores inmobiliarios   \n",
      "\n",
      "     phone_realEstate                                       url_inmueble  \\\n",
      "1         916358736.0  https://www.fotocasa.es/es/comprar/vivienda/ma...   \n",
      "3         916358736.0  https://www.fotocasa.es/es/comprar/vivienda/ma...   \n",
      "85                NaN  https://www.fotocasa.es/es/comprar/vivienda/le...   \n",
      "94        911226014.0  https://www.fotocasa.es/es/comprar/vivienda/le...   \n",
      "109       912664081.0  https://www.fotocasa.es/es/comprar/vivienda/ma...   \n",
      "\n",
      "     rooms  bathrooms  surface   price  ... level5Id level6Id level7Id  \\\n",
      "1      3.0        1.0      NaN   89000  ...        0        0        0   \n",
      "3      3.0        1.0     86.0   89000  ...        0        0        0   \n",
      "85     1.0        1.0     50.0  107000  ...        0        0        0   \n",
      "94     3.0        2.0    120.0  320000  ...        0        0        0   \n",
      "109    3.0        3.0    142.0  425000  ...        0        0        0   \n",
      "\n",
      "    level8Id accuracy          latitude          longitude zipCode customZone  \\\n",
      "1          0        1          40,28674           -3,79351     NaN        NaN   \n",
      "3          0        0  40,2853785786438  -3,79508142135624     NaN        NaN   \n",
      "85         0        1          40,35059           -3,82693     NaN        NaN   \n",
      "94         0        0          40,31933           -3,77574     NaN        NaN   \n",
      "109        0        0        40,3313411         -3,8313868     NaN        NaN   \n",
      "\n",
      "             pps  \n",
      "1            NaN  \n",
      "3    1034.883721  \n",
      "85   2140.000000  \n",
      "94   2666.666667  \n",
      "109  2992.957746  \n",
      "\n",
      "[5 rows x 38 columns]\n"
     ]
    }
   ],
   "source": [
    "# TODO\n",
    "south_belt = [\"Fuenlabrada\", \"Leganés\", \"Getafe\", \"Alcorcón\"]\n",
    "south_belt_ds = ds[ds['level5'].isin(south_belt)]\n",
    "print(south_belt_ds.head())"
   ]
  },
  {
   "attachments": {},
   "cell_type": "markdown",
   "id": "severe-fisher",
   "metadata": {},
   "source": [
    "#### Exercise 15. Make a bar plot of the median of the prices and explain what you observe (you must use the subset obtained in Exercise 14) (★★★)\n",
    "\n",
    "Print the bar of the median of the prices and write in the Markdown cell a brief analysis about the plot."
   ]
  },
  {
   "cell_type": "code",
   "execution_count": 18,
   "id": "lyric-bunch",
   "metadata": {},
   "outputs": [
    {
     "data": {
      "image/png": "[encoded data removed]",
      "text/plain": [
       "<Figure size 1000x500 with 1 Axes>"
      ]
     },
     "metadata": {},
     "output_type": "display_data"
    },
    {
     "name": "stdout",
     "output_type": "stream",
     "text": [
      "We can see that all three out of 4 populations have a very similar price range while Getafe is considerably more expensive\n"
     ]
    }
   ],
   "source": [
    "# TODO: Code\n",
    "avgprice = south_belt_ds.groupby('level5')['price'].median()\n",
    "\n",
    "plt.figure(figsize = (10, 5))\n",
    "avgprice.plot(kind='bar')\n",
    "plt.xlabel(\"Population\")\n",
    "plt.ylabel(\"Average price €\")\n",
    "plt.title(\"Median of prices in South Belt\")\n",
    "plt.show()\n",
    "\n",
    "print(\"We can see that all three out of 4 populations have a very similar price range while Getafe is considerably more expensive\")"
   ]
  },
  {
   "attachments": {},
   "cell_type": "markdown",
   "id": "sublime-newspaper",
   "metadata": {},
   "source": [
    "**TODO: Markdown**. To write here, double-click on this cell, remove this content and place the text you want to write. Then, execute the cell."
   ]
  },
  {
   "attachments": {},
   "cell_type": "markdown",
   "id": "speaking-diamond",
   "metadata": {},
   "source": [
    "#### Exercise 16. Calculate the sample mean and variance of the variables: price, rooms, surface area and bathrooms (you must use the subset obtained in Exercise 14) (★★★)\n",
    "\n",
    "Print both values for each variable."
   ]
  },
  {
   "cell_type": "code",
   "execution_count": 50,
   "id": "random-feeling",
   "metadata": {},
   "outputs": [
    {
     "name": "stdout",
     "output_type": "stream",
     "text": [
      "The variance of the price is: 14921367508.04902\n",
      "The sample mean of the price is: 223094 € \n",
      "\n",
      "The variance of the rooms is: 0.7188858892927542\n",
      "The sample mean of the rooms is: 3 rooms \n",
      "\n",
      "The variance of the surface is: 4263.051760316337\n",
      "The sample mean of the surface is: 112 m2 \n",
      "\n",
      "The variance of the bathrooms is: 0.5717968625577321\n",
      "The sample mean of the bathrooms is: 2 bathrooms\n"
     ]
    }
   ],
   "source": [
    "# TODO\n",
    "\n",
    "mean1 = south_belt_ds['price'].mean()\n",
    "variance1 = south_belt_ds['price'].var()\n",
    "print(\"The variance of the price is:\", variance1)\n",
    "print(\"The sample mean of the price is:\", round(mean1), \"€\", '\\n')\n",
    "\n",
    "mean2 = south_belt_ds['rooms'].mean()\n",
    "variance2 = south_belt_ds['rooms'].var()\n",
    "print(\"The variance of the rooms is:\",variance2)\n",
    "print(\"The sample mean of the rooms is:\",round(mean2),\"rooms\", '\\n')\n",
    "\n",
    "mean3 = south_belt_ds['surface'].mean()\n",
    "variance3 = south_belt_ds['surface'].var()\n",
    "print(\"The variance of the surface is:\",variance3)\n",
    "print(\"The sample mean of the surface is:\",round(mean3),\"m2\", '\\n')\n",
    "\n",
    "mean4 = south_belt_ds['bathrooms'].mean()\n",
    "variance4 = south_belt_ds['bathrooms'].var()\n",
    "print(\"The variance of the bathrooms is:\",variance4)\n",
    "print(\"The sample mean of the bathrooms is:\",round(mean4),\"bathrooms\")"
   ]
  },
  {
   "attachments": {},
   "cell_type": "markdown",
   "id": "revolutionary-matrix",
   "metadata": {},
   "source": [
    "#### Exercise 17. What is the most expensive house in each population? You must use the subset obtained in Exercise 14 (★★☆)\n",
    "\n",
    "Print both the address and the price of the selected house of each population. You can print a DataFrame or a single line for each population."
   ]
  },
  {
   "cell_type": "code",
   "execution_count": 20,
   "id": "fifteen-browse",
   "metadata": {},
   "outputs": [
    {
     "name": "stdout",
     "output_type": "stream",
     "text": [
      "            level5    price\n",
      "5585      Alcorcón   950000\n",
      "11561  Fuenlabrada   490000\n",
      "2881        Getafe  1050000\n",
      "10412      Leganés   650000\n"
     ]
    }
   ],
   "source": [
    "# TODO\n",
    "veryexpensive = south_belt_ds.loc[south_belt_ds.groupby('level5')['price'].idxmax(), ['level5', 'price']]\n",
    "print(veryexpensive)"
   ]
  },
  {
   "attachments": {},
   "cell_type": "markdown",
   "id": "activated-knight",
   "metadata": {},
   "source": [
    "#### Exercise 18. Normalize the variable of prices for each population and plot the 4 histograms in the same plot (you must use the subset obtained in Exercise 14) (★★★)\n",
    "\n",
    "For the normalization method, you can use the one you consider; there is not a single correct answer to this question. Print the plot and write in the Markdown cell a brief analysis about the plot.\n",
    "\n",
    "Hint: You can help yourself by reviewing the *multihist* demo of Matplotlib."
   ]
  },
  {
   "cell_type": "code",
   "execution_count": 21,
   "id": "civic-meditation",
   "metadata": {},
   "outputs": [
    {
     "name": "stderr",
     "output_type": "stream",
     "text": [
      "/tmp/ipykernel_1277/3152908882.py:2: SettingWithCopyWarning: \n",
      "A value is trying to be set on a copy of a slice from a DataFrame.\n",
      "Try using .loc[row_indexer,col_indexer] = value instead\n",
      "\n",
      "See the caveats in the documentation: https://pandas.pydata.org/pandas-docs/stable/user_guide/indexing.html#returning-a-view-versus-a-copy\n",
      "  south_belt_ds['normalized'] = south_belt_ds.groupby('level5')['price'].transform(lambda x: (x - x.min()) / (x.max() - x.min()))\n"
     ]
    },
    {
     "data": {
      "image/png": "[encoded data removed]",
      "text/plain": [
       "<Figure size 1000x500 with 1 Axes>"
      ]
     },
     "metadata": {},
     "output_type": "display_data"
    }
   ],
   "source": [
    "# TODO\n",
    "south_belt_ds['normalized'] = south_belt_ds.groupby('level5')['price'].transform(lambda x: (x - x.min()) / (x.max() - x.min()))\n",
    "\n",
    "plt.figure(figsize = (10, 5))\n",
    "\n",
    "for district in south_belt:\n",
    "    subset = south_belt_ds[south_belt_ds['level5'] == district]\n",
    "    plt.hist(subset['normalized'], bins = 20, alpha=0.5, label=district)\n",
    "    \n",
    "plt.title(\"Normalized price distribution\")\n",
    "plt.xlabel(\"Normalized price\")\n",
    "plt.ylabel(\"Frequency\")\n",
    "plt.grid(alpha=0.3)\n",
    "plt.show()\n",
    "\n"
   ]
  },
  {
   "attachments": {},
   "cell_type": "markdown",
   "id": "precise-heavy",
   "metadata": {},
   "source": [
    "**TODO: Markdown**."
   ]
  },
  {
   "attachments": {},
   "cell_type": "markdown",
   "id": "patent-jonathan",
   "metadata": {},
   "source": [
    "#### Exercise 19. What can you say about the price per square meter (price/m2) between the towns of \"Getafe\" and \"Alcorcón\"? You must use the subset obtained in Exercise 14 (★★☆)\n",
    "\n",
    "Hint: Create a new column called `pps` (price per square meter) and then analyze the values."
   ]
  },
  {
   "cell_type": "code",
   "execution_count": 22,
   "id": "initial-liverpool",
   "metadata": {},
   "outputs": [
    {
     "name": "stdout",
     "output_type": "stream",
     "text": [
      "    price  surface          pps\n",
      "0  195000    103.0  1893.203883\n",
      "1   89000      NaN          NaN\n",
      "2  390000     99.0  3939.393939\n",
      "3   89000     86.0  1034.883721\n",
      "4  172000    106.0  1622.641509\n",
      "The average price per square meter for a property in Getafe is: 2066 €\n",
      "The average price per square meter for a property in Alcorcón is: 2239 €\n",
      "Prices between Getafe and Alcorcón are similar, with a price difference of ~200€\n"
     ]
    },
    {
     "name": "stderr",
     "output_type": "stream",
     "text": [
      "/tmp/ipykernel_1277/2899294674.py:2: SettingWithCopyWarning: \n",
      "A value is trying to be set on a copy of a slice from a DataFrame.\n",
      "Try using .loc[row_indexer,col_indexer] = value instead\n",
      "\n",
      "See the caveats in the documentation: https://pandas.pydata.org/pandas-docs/stable/user_guide/indexing.html#returning-a-view-versus-a-copy\n",
      "  south_belt_ds['pps'] = south_belt_ds['price'] / south_belt_ds['surface']\n"
     ]
    }
   ],
   "source": [
    "# TODO\n",
    "south_belt_ds['pps'] = south_belt_ds['price'] / south_belt_ds['surface']\n",
    "getafe_price = south_belt_ds[south_belt_ds['level5'] == \"Getafe\"]['pps'].mean()\n",
    "alcorcon_price = south_belt_ds[south_belt_ds['level5'] == \"Alcorcón\"]['pps'].mean()\n",
    "\n",
    "print(ds[['price', 'surface', 'pps']].head()) #Column\n",
    "\n",
    "print(f\"The average price per square meter for a property in Getafe is:\", round(getafe_price), \"€\")\n",
    "print(f\"The average price per square meter for a property in Alcorcón is:\", round(alcorcon_price), \"€\")\n",
    "\n",
    "print(\"Prices between Getafe and Alcorcón are similar, with a price difference of ~200€\")"
   ]
  },
  {
   "attachments": {},
   "cell_type": "markdown",
   "id": "enhanced-moscow",
   "metadata": {},
   "source": [
    "#### Exercise 20. Make the same plot for 4 different populations (level5 column) and rearrange them on the same graph. You must use the subset obtained in Exercise 14 (★★☆)\n",
    " \n",
    "Hint: Make a scatter plot of each population using subplots."
   ]
  },
  {
   "cell_type": "code",
   "execution_count": 23,
   "id": "accepting-airfare",
   "metadata": {},
   "outputs": [
    {
     "data": {
      "image/png": "[encoded data removed]",
      "text/plain": [
       "<Figure size 1200x800 with 4 Axes>"
      ]
     },
     "metadata": {},
     "output_type": "display_data"
    }
   ],
   "source": [
    "# TODO\n",
    "fig, axes = plt.subplots(2,2, figsize=(12,8), sharex=True, sharey=True)\n",
    "\n",
    "south_belt = [\"Fuenlabrada\", \"Leganés\", \"Getafe\", \"Alcorcón\"]\n",
    "colors = [\"red\", \"blue\", \"green\", \"yellow\"]\n",
    "\n",
    "for i, (population, ax) in enumerate(zip(south_belt, axes.flatten())):\n",
    "    subset = south_belt_ds[south_belt_ds[\"level5\"] == population]\n",
    "    ax.scatter(subset[\"surface\"], subset[\"price\"], color=colors[i], alpha=0.6)\n",
    "    ax.set_title(population, fontsize=12)\n",
    "    ax.set_xlabel(\"Surface area m2\")\n",
    "    ax.set_ylabel([\"Price €\"])\n",
    "    ax.grid(alpha=0.3)\n",
    "\n",
    "plt.show()"
   ]
  },
  {
   "attachments": {},
   "cell_type": "markdown",
   "id": "blocked-effects",
   "metadata": {},
   "source": [
    "#### Exercise 21. Make a plot of the coordinates (latitude and longitude columns) of the south belt of Madrid by color of each population (you must use the subset obtained in Exercise 14) (★★★★)\n",
    "\n",
    "Execute the following cell, and then start coding in the next one. You must implement a simple code that transforms the coordinates columns in a Python dictionary (add more information if needed) and then add it to the map"
   ]
  },
  {
   "cell_type": "code",
   "execution_count": 24,
   "id": "headed-privacy",
   "metadata": {},
   "outputs": [
    {
     "data": {
      "application/vnd.jupyter.widget-view+json": {
       "model_id": "8384e0214fdc417da236a2b330222adb",
       "version_major": 2,
       "version_minor": 0
      },
      "text/plain": [
       "Map(center=[40.35, -3.8], controls=(ZoomControl(options=['position', 'zoom_in_text', 'zoom_in_title', 'zoom_ou…"
      ]
     },
     "execution_count": 24,
     "metadata": {},
     "output_type": "execute_result"
    }
   ],
   "source": [
    "from ipyleaflet import Map, basemaps, CircleMarker\n",
    "\n",
    "# Map centered on south west part of Madrid\n",
    "map = Map(center = (40.35, -3.8), zoom = 11.5, min_zoom = 1, max_zoom = 20, \n",
    "    basemap=basemaps.OpenStreetMap.Mapnik)\n",
    "map"
   ]
  },
  {
   "cell_type": "code",
   "execution_count": 25,
   "id": "present-mistress",
   "metadata": {},
   "outputs": [
    {
     "data": {
      "application/vnd.jupyter.widget-view+json": {
       "model_id": "8384e0214fdc417da236a2b330222adb",
       "version_major": 2,
       "version_minor": 0
      },
      "text/plain": [
       "Map(center=[40.35, -3.8], controls=(ZoomControl(options=['position', 'zoom_in_text', 'zoom_in_title', 'zoom_ou…"
      ]
     },
     "execution_count": 25,
     "metadata": {},
     "output_type": "execute_result"
    }
   ],
   "source": [
    "## HERE: plot the coordinates of the estates\n",
    "\n",
    "## PUT HERE YOUR CODE:\n",
    "\n",
    "south_belt = [\"Fuenlabrada\", \"Leganés\", \"Getafe\", \"Alcorcón\"]\n",
    "south_belt_ds = ds[ds['level5'].isin(south_belt)]\n",
    "\n",
    "south_belt_ds.loc[:, \"latitude\"] = south_belt_ds[\"latitude\"].astype(str).str.replace(\",\", \".\").astype(float)\n",
    "south_belt_ds.loc[:, \"longitude\"] = south_belt_ds[\"longitude\"].astype(str).str.replace(\",\", \".\").astype(float)\n",
    "\n",
    "colors = {\n",
    "    \"Fuenlabrada\": \"red\",\n",
    "    \"Leganés\": \"blue\",\n",
    "    \"Getafe\": \"yellow\",\n",
    "    \"Alcorcón\": \"green\"\n",
    "}\n",
    "\n",
    "for _, row in south_belt_ds.iterrows():\n",
    "    if row['level5'] in colors: \n",
    "        marker = CircleMarker(\n",
    "            location=(row['latitude'], row['longitude']),\n",
    "            radius=5,\n",
    "            color=colors[row['level5']],\n",
    "            fill_opacity=0.6\n",
    "        )\n",
    "        map.add_layer(marker)\n",
    "\n",
    "map"
   ]
  }
 ],
 "metadata": {
  "kernelspec": {
   "display_name": "Python 3",
   "language": "python",
   "name": "python3"
  },
  "language_info": {
   "codemirror_mode": {
    "name": "ipython",
    "version": 3
   },
   "file_extension": ".py",
   "mimetype": "text/x-python",
   "name": "python",
   "nbconvert_exporter": "python",
   "pygments_lexer": "ipython3",
   "version": "3.11.4"
  }
 },
 "nbformat": 4,
 "nbformat_minor": 5
}
